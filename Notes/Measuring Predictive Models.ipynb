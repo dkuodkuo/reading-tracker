{
 "cells": [
  {
   "cell_type": "markdown",
   "metadata": {},
   "source": [
    "# Measuring Predictive Models\n",
    "\n",
    "References:\n",
    "- http://blog.revolutionanalytics.com/2016/03/com_class_eval_metrics_r.html\n",
    "- http://scikit-learn.org/stable/modules/model_evaluation.html\n",
    "\n",
    "## Terms\n",
    "\n",
    "|**Term**                   |**Definition**\n",
    "|--------------------------:|:-------------\n",
    "|**Confusion Matrix:**      |lol\n",
    "|**Accuracy:**              |lol\n",
    "|**Precision:**             |lol\n",
    "|**Recall:**                |lol\n",
    "|**F1:**                    |lol\n",
    "|**Macro-averaged Metrics:**|lol\n",
    "|**One-vs-all Matrices:**   |lol\n",
    "|**Average Accuracy:**      |lol\n",
    "|**Micro-averaged Metrics:**|lol\n",
    "\n",
    "## Baseline Models\n",
    "\n",
    "|**Term**                   |**Definition**\n",
    "|--------------------------:|:-------------\n",
    "|**Majority-class Metrics:**|lol\n",
    "|**Random-guess Metrics:**  |lol\n",
    "|**Kappa Statistic:**       |lol"
   ]
  }
 ],
 "metadata": {
  "kernelspec": {
   "display_name": "Python 3",
   "language": "python",
   "name": "python3"
  },
  "language_info": {
   "codemirror_mode": {
    "name": "ipython",
    "version": 3
   },
   "file_extension": ".py",
   "mimetype": "text/x-python",
   "name": "python",
   "nbconvert_exporter": "python",
   "pygments_lexer": "ipython3",
   "version": "3.6.1"
  }
 },
 "nbformat": 4,
 "nbformat_minor": 2
}
