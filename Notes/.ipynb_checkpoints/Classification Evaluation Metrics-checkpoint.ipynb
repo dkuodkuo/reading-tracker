{
 "cells": [
  {
   "cell_type": "markdown",
   "metadata": {},
   "source": [
    "# Classification Evaluation Metrics\n",
    "\n",
    "Reference:\n",
    "- http://blog.revolutionanalytics.com/2016/03/com_class_eval_metrics_r.html\n",
    "\n",
    "To add:\n",
    "- https://scikit-learn.org/stable/modules/model_evaluation.html\n",
    "- http://people.ciirc.cvut.cz/~hlavac/TeachPresEn/31PattRecog/13ClassifierPerformance.pdf\n",
    "\n",
    "## Techniques\n",
    "\n",
    "|**Term**|**Definition**\n",
    "|-------:|:-------------\n",
    "|**Baseline Models**|One way to justify the results of classifiers with poor performance is by comparing them to those of baseline classifiers and showing that they are better than random chance predictions.\n",
    "\n",
    "## Metrics\n",
    "\n",
    "|**Term**|**Definition**\n",
    "|-------:|:-------------\n",
    "|**Confusion Matrix**|A contingency table of observations by their predicted vs actual class labels. For the notebook, assume the colums are the predicted labels and the rows are the actual labels.\n",
    "|**Accuracy**|The fraction of instances that are correctly classified. `sum(diagonal) / observations`\n",
    "|**Precision**|The fraction of correct predictions for a certain class. `diagonal / colsums`\n",
    "|**Recall**|The fraction of instances of a class that were correctly predicted. `diagonal / rowsums`\n",
    "|**F1**|Harmonic mean (or a weighted average) of precision and recall. `2 * precision * recall / (precision + recall) `\n",
    "|**One-vs-all Matrices**|Confusion matrix for one class at a time. The sum of these matrices allows us to compute weighted metrics.\n",
    "|**Average Accuracy**|The fraction of correctly classified instances in the sum of one-vs-all matrices matrix.\n",
    "|**Macro-Averaged Metrics**|Average performance, equal weights by class.\n",
    "|**Micro-Averaged Metrics**|Average performance, weighted by sum of one-vs-all matrices. Favors classes with a larger number of instances. Micro-averaged precision, recall, and F-1 are equal.\n",
    "|**No Information Rate**|The overall accuracy of the majority-class classifier.\n",
    "|**Kappa Statistic**|A measure of agreement between the predictions and the actual labels. Also interpreted as a comparison of the overall acurracy to the expected random chance accuracy. \n",
    "\n",
    "## Baseline Models\n",
    "\n",
    "|**Term**|**Definition**\n",
    "|-------:|:-------------\n",
    "|**Majority-Class Classifier**|Predict majority class.\n",
    "|**Random-Guess Classifier**|Predict labels randomly.\n",
    "|**Weighted Random-Guess Classifier**|Predict labels randomly, weighted by the prior distribution.\n",
    "\n",
    "## Classification Evaluation Demo\n",
    "\n",
    "Note - indexing notation will differ from the *Revolutions* blogpost."
   ]
  },
  {
   "cell_type": "code",
   "execution_count": 1,
   "metadata": {},
   "outputs": [],
   "source": [
    "import numpy as np\n",
    "import pandas as pd\n",
    "from pprint import pprint"
   ]
  },
  {
   "cell_type": "code",
   "execution_count": 2,
   "metadata": {},
   "outputs": [],
   "source": [
    "# Generate data\n",
    "np.random.seed(0)\n",
    "\n",
    "n = 200\n",
    "sample_mix = 75\n",
    "data_classes = np.array(['a', 'b', 'c'])\n",
    "p_true = [0.5, 0.25, 0.25]\n",
    "\n",
    "actual = np.random.choice(data_classes, size = n, replace = True, p = p_true)\n",
    "predicted = actual.copy()\n",
    "\n",
    "mix_indices_actual = np.random.choice(range(n), size = sample_mix, replace = False)\n",
    "mix_indices_predicted = np.random.choice(range(n), size = sample_mix, replace = False)\n",
    "\n",
    "predicted[mix_indices_predicted] = actual[mix_indices_actual]"
   ]
  },
  {
   "cell_type": "markdown",
   "metadata": {},
   "source": [
    "### Confusion Matrix\n",
    "\n",
    "References for further implementation:\n",
    "\n",
    "- https://stackoverflow.com/questions/2148543/how-to-write-a-confusion-matrix-in-python"
   ]
  },
  {
   "cell_type": "code",
   "execution_count": 3,
   "metadata": {},
   "outputs": [
    {
     "data": {
      "text/html": [
       "<div>\n",
       "<style scoped>\n",
       "    .dataframe tbody tr th:only-of-type {\n",
       "        vertical-align: middle;\n",
       "    }\n",
       "\n",
       "    .dataframe tbody tr th {\n",
       "        vertical-align: top;\n",
       "    }\n",
       "\n",
       "    .dataframe thead th {\n",
       "        text-align: right;\n",
       "    }\n",
       "</style>\n",
       "<table border=\"1\" class=\"dataframe\">\n",
       "  <thead>\n",
       "    <tr style=\"text-align: right;\">\n",
       "      <th></th>\n",
       "      <th>predict a</th>\n",
       "      <th>predict b</th>\n",
       "      <th>predict c</th>\n",
       "    </tr>\n",
       "  </thead>\n",
       "  <tbody>\n",
       "    <tr>\n",
       "      <th>actual a</th>\n",
       "      <td>73</td>\n",
       "      <td>15</td>\n",
       "      <td>6</td>\n",
       "    </tr>\n",
       "    <tr>\n",
       "      <th>actual b</th>\n",
       "      <td>13</td>\n",
       "      <td>46</td>\n",
       "      <td>5</td>\n",
       "    </tr>\n",
       "    <tr>\n",
       "      <th>actual c</th>\n",
       "      <td>9</td>\n",
       "      <td>4</td>\n",
       "      <td>29</td>\n",
       "    </tr>\n",
       "  </tbody>\n",
       "</table>\n",
       "</div>"
      ],
      "text/plain": [
       "          predict a  predict b  predict c\n",
       "actual a         73         15          6\n",
       "actual b         13         46          5\n",
       "actual c          9          4         29"
      ]
     },
     "execution_count": 3,
     "metadata": {},
     "output_type": "execute_result"
    }
   ],
   "source": [
    "cm = np.zeros([3, 3]).astype(int)\n",
    "\n",
    "for cm_index_actual, i in enumerate(data_classes):\n",
    "    for cm_index_predict, j in enumerate(data_classes):\n",
    "        cm[cm_index_actual, cm_index_predict] = np.sum((actual == i) & (predicted == j))\n",
    "\n",
    "cm_index = ['actual ' + x for x in data_classes]\n",
    "cm_columns = ['predict ' + x for x in data_classes]\n",
    "pd.DataFrame(cm, index = cm_index, columns = cm_columns)"
   ]
  },
  {
   "cell_type": "code",
   "execution_count": 4,
   "metadata": {
    "scrolled": true
   },
   "outputs": [
    {
     "data": {
      "text/html": [
       "<div>\n",
       "<style scoped>\n",
       "    .dataframe tbody tr th:only-of-type {\n",
       "        vertical-align: middle;\n",
       "    }\n",
       "\n",
       "    .dataframe tbody tr th {\n",
       "        vertical-align: top;\n",
       "    }\n",
       "\n",
       "    .dataframe thead th {\n",
       "        text-align: right;\n",
       "    }\n",
       "</style>\n",
       "<table border=\"1\" class=\"dataframe\">\n",
       "  <thead>\n",
       "    <tr style=\"text-align: right;\">\n",
       "      <th></th>\n",
       "      <th>predict a</th>\n",
       "      <th>predict b</th>\n",
       "      <th>predict c</th>\n",
       "    </tr>\n",
       "  </thead>\n",
       "  <tbody>\n",
       "    <tr>\n",
       "      <th>actual a</th>\n",
       "      <td>73</td>\n",
       "      <td>15</td>\n",
       "      <td>6</td>\n",
       "    </tr>\n",
       "    <tr>\n",
       "      <th>actual b</th>\n",
       "      <td>13</td>\n",
       "      <td>46</td>\n",
       "      <td>5</td>\n",
       "    </tr>\n",
       "    <tr>\n",
       "      <th>actual c</th>\n",
       "      <td>9</td>\n",
       "      <td>4</td>\n",
       "      <td>29</td>\n",
       "    </tr>\n",
       "  </tbody>\n",
       "</table>\n",
       "</div>"
      ],
      "text/plain": [
       "          predict a  predict b  predict c\n",
       "actual a         73         15          6\n",
       "actual b         13         46          5\n",
       "actual c          9          4         29"
      ]
     },
     "execution_count": 4,
     "metadata": {},
     "output_type": "execute_result"
    }
   ],
   "source": [
    "# sklearn implementation\n",
    "from sklearn.metrics import confusion_matrix\n",
    "cm = confusion_matrix(actual, predicted, labels = data_classes)\n",
    "\n",
    "pd.DataFrame(cm, index = cm_index, columns = cm_columns)"
   ]
  },
  {
   "cell_type": "markdown",
   "metadata": {},
   "source": [
    "### Basic Variables"
   ]
  },
  {
   "cell_type": "code",
   "execution_count": 5,
   "metadata": {},
   "outputs": [],
   "source": [
    "nc = len(data_classes)\n",
    "diag = np.diagonal(cm)\n",
    "colsums = np.sum(cm, axis = 0)\n",
    "rowsums = np.sum(cm, axis = 1)\n",
    "p = rowsums / n\n",
    "q = colsums / n"
   ]
  },
  {
   "cell_type": "markdown",
   "metadata": {},
   "source": [
    "### Accuracy, Precision, Recall, F1"
   ]
  },
  {
   "cell_type": "code",
   "execution_count": 6,
   "metadata": {},
   "outputs": [
    {
     "name": "stdout",
     "output_type": "stream",
     "text": [
      "Accuracy: 0.74\n"
     ]
    },
    {
     "data": {
      "text/html": [
       "<div>\n",
       "<style scoped>\n",
       "    .dataframe tbody tr th:only-of-type {\n",
       "        vertical-align: middle;\n",
       "    }\n",
       "\n",
       "    .dataframe tbody tr th {\n",
       "        vertical-align: top;\n",
       "    }\n",
       "\n",
       "    .dataframe thead th {\n",
       "        text-align: right;\n",
       "    }\n",
       "</style>\n",
       "<table border=\"1\" class=\"dataframe\">\n",
       "  <thead>\n",
       "    <tr style=\"text-align: right;\">\n",
       "      <th></th>\n",
       "      <th>precision</th>\n",
       "      <th>recall</th>\n",
       "      <th>f1</th>\n",
       "    </tr>\n",
       "  </thead>\n",
       "  <tbody>\n",
       "    <tr>\n",
       "      <th>a</th>\n",
       "      <td>0.776596</td>\n",
       "      <td>0.768421</td>\n",
       "      <td>0.772487</td>\n",
       "    </tr>\n",
       "    <tr>\n",
       "      <th>b</th>\n",
       "      <td>0.718750</td>\n",
       "      <td>0.707692</td>\n",
       "      <td>0.713178</td>\n",
       "    </tr>\n",
       "    <tr>\n",
       "      <th>c</th>\n",
       "      <td>0.690476</td>\n",
       "      <td>0.725000</td>\n",
       "      <td>0.707317</td>\n",
       "    </tr>\n",
       "  </tbody>\n",
       "</table>\n",
       "</div>"
      ],
      "text/plain": [
       "   precision    recall        f1\n",
       "a   0.776596  0.768421  0.772487\n",
       "b   0.718750  0.707692  0.713178\n",
       "c   0.690476  0.725000  0.707317"
      ]
     },
     "execution_count": 6,
     "metadata": {},
     "output_type": "execute_result"
    }
   ],
   "source": [
    "diag = np.diagonal(cm)\n",
    "\n",
    "accuracy = np.sum(diag) / n\n",
    "precision = diag / rowsums\n",
    "recall = diag / colsums\n",
    "f1 = 2 * precision * recall / (precision + recall)\n",
    "\n",
    "cm_metrics = pd.DataFrame(\n",
    "    {\n",
    "        'precision': precision, \n",
    "        'recall': recall,\n",
    "        'f1': f1,\n",
    "    }, \n",
    "    index = data_classes)\n",
    "\n",
    "print('Accuracy: {}'.format(accuracy))\n",
    "cm_metrics"
   ]
  },
  {
   "cell_type": "markdown",
   "metadata": {},
   "source": [
    "### Macro-Averaged Metrics"
   ]
  },
  {
   "cell_type": "code",
   "execution_count": 7,
   "metadata": {},
   "outputs": [
    {
     "data": {
      "text/html": [
       "<div>\n",
       "<style scoped>\n",
       "    .dataframe tbody tr th:only-of-type {\n",
       "        vertical-align: middle;\n",
       "    }\n",
       "\n",
       "    .dataframe tbody tr th {\n",
       "        vertical-align: top;\n",
       "    }\n",
       "\n",
       "    .dataframe thead th {\n",
       "        text-align: right;\n",
       "    }\n",
       "</style>\n",
       "<table border=\"1\" class=\"dataframe\">\n",
       "  <thead>\n",
       "    <tr style=\"text-align: right;\">\n",
       "      <th></th>\n",
       "      <th>macro-averaged</th>\n",
       "    </tr>\n",
       "  </thead>\n",
       "  <tbody>\n",
       "    <tr>\n",
       "      <th>precision</th>\n",
       "      <td>0.728607</td>\n",
       "    </tr>\n",
       "    <tr>\n",
       "      <th>recall</th>\n",
       "      <td>0.733704</td>\n",
       "    </tr>\n",
       "    <tr>\n",
       "      <th>f1</th>\n",
       "      <td>0.730994</td>\n",
       "    </tr>\n",
       "  </tbody>\n",
       "</table>\n",
       "</div>"
      ],
      "text/plain": [
       "           macro-averaged\n",
       "precision        0.728607\n",
       "recall           0.733704\n",
       "f1               0.730994"
      ]
     },
     "execution_count": 7,
     "metadata": {},
     "output_type": "execute_result"
    }
   ],
   "source": [
    "cm_metrics_avg = pd.DataFrame(cm_metrics.mean(), columns = ['macro-averaged'])\n",
    "cm_metrics_avg"
   ]
  },
  {
   "cell_type": "markdown",
   "metadata": {},
   "source": [
    "### One-Vs-All"
   ]
  },
  {
   "cell_type": "code",
   "execution_count": 8,
   "metadata": {},
   "outputs": [
    {
     "data": {
      "text/html": [
       "<div>\n",
       "<style scoped>\n",
       "    .dataframe tbody tr th:only-of-type {\n",
       "        vertical-align: middle;\n",
       "    }\n",
       "\n",
       "    .dataframe tbody tr th {\n",
       "        vertical-align: top;\n",
       "    }\n",
       "\n",
       "    .dataframe thead tr th {\n",
       "        text-align: left;\n",
       "    }\n",
       "</style>\n",
       "<table border=\"1\" class=\"dataframe\">\n",
       "  <thead>\n",
       "    <tr>\n",
       "      <th></th>\n",
       "      <th colspan=\"2\" halign=\"left\">a</th>\n",
       "      <th colspan=\"2\" halign=\"left\">b</th>\n",
       "      <th colspan=\"2\" halign=\"left\">c</th>\n",
       "    </tr>\n",
       "    <tr>\n",
       "      <th></th>\n",
       "      <th>predict x</th>\n",
       "      <th>predict !x</th>\n",
       "      <th>predict x</th>\n",
       "      <th>predict !x</th>\n",
       "      <th>predict x</th>\n",
       "      <th>predict !x</th>\n",
       "    </tr>\n",
       "  </thead>\n",
       "  <tbody>\n",
       "    <tr>\n",
       "      <th>actual x</th>\n",
       "      <td>73</td>\n",
       "      <td>21</td>\n",
       "      <td>46</td>\n",
       "      <td>18</td>\n",
       "      <td>29</td>\n",
       "      <td>13</td>\n",
       "    </tr>\n",
       "    <tr>\n",
       "      <th>actual !x</th>\n",
       "      <td>22</td>\n",
       "      <td>84</td>\n",
       "      <td>19</td>\n",
       "      <td>117</td>\n",
       "      <td>11</td>\n",
       "      <td>147</td>\n",
       "    </tr>\n",
       "  </tbody>\n",
       "</table>\n",
       "</div>"
      ],
      "text/plain": [
       "                  a                    b                    c           \n",
       "          predict x predict !x predict x predict !x predict x predict !x\n",
       "actual x         73         21        46         18        29         13\n",
       "actual !x        22         84        19        117        11        147"
      ]
     },
     "execution_count": 8,
     "metadata": {},
     "output_type": "execute_result"
    }
   ],
   "source": [
    "ova_dict = {}\n",
    "\n",
    "for index, i in enumerate(data_classes):\n",
    "    \n",
    "    cm_i = cm[index, index]\n",
    "    colsums_i = np.sum(cm, axis = 0)[index]\n",
    "    rowsums_i = np.sum(cm, axis = 1)[index]\n",
    "    \n",
    "    ova_dict[i] = np.array([\n",
    "        [\n",
    "            cm_i, \n",
    "            rowsums_i - cm_i,\n",
    "        ],\n",
    "        [\n",
    "            colsums_i - cm_i, \n",
    "            n - rowsums_i - colsums_i + cm_i,\n",
    "        ],\n",
    "    ])\n",
    "    \n",
    "ova_dict_display = pd.concat({\n",
    "    i: pd.DataFrame(\n",
    "        ova_dict[i], \n",
    "        index = ['actual x', 'actual !x'], \n",
    "        columns = ['predict x', 'predict !x']\n",
    "    ) \n",
    "    for i in ova_dict},\n",
    "    axis = 1\n",
    ")\n",
    "\n",
    "ova_dict_display"
   ]
  },
  {
   "cell_type": "code",
   "execution_count": 9,
   "metadata": {},
   "outputs": [
    {
     "data": {
      "text/html": [
       "<div>\n",
       "<style scoped>\n",
       "    .dataframe tbody tr th:only-of-type {\n",
       "        vertical-align: middle;\n",
       "    }\n",
       "\n",
       "    .dataframe tbody tr th {\n",
       "        vertical-align: top;\n",
       "    }\n",
       "\n",
       "    .dataframe thead th {\n",
       "        text-align: right;\n",
       "    }\n",
       "</style>\n",
       "<table border=\"1\" class=\"dataframe\">\n",
       "  <thead>\n",
       "    <tr style=\"text-align: right;\">\n",
       "      <th></th>\n",
       "      <th>predict x</th>\n",
       "      <th>predict !x</th>\n",
       "    </tr>\n",
       "  </thead>\n",
       "  <tbody>\n",
       "    <tr>\n",
       "      <th>actual x</th>\n",
       "      <td>148</td>\n",
       "      <td>52</td>\n",
       "    </tr>\n",
       "    <tr>\n",
       "      <th>actual !x</th>\n",
       "      <td>52</td>\n",
       "      <td>348</td>\n",
       "    </tr>\n",
       "  </tbody>\n",
       "</table>\n",
       "</div>"
      ],
      "text/plain": [
       "           predict x  predict !x\n",
       "actual x         148          52\n",
       "actual !x         52         348"
      ]
     },
     "execution_count": 9,
     "metadata": {},
     "output_type": "execute_result"
    }
   ],
   "source": [
    "# sum of one-vs-all matrices\n",
    "ova_sum = np.sum(list(ova_dict.values()), axis = 0)\n",
    "\n",
    "pd.DataFrame(ova_sum, index = ['actual x', 'actual !x'], columns = ['predict x', 'predict !x'])"
   ]
  },
  {
   "cell_type": "markdown",
   "metadata": {},
   "source": [
    "### Micro-Averaged Metrics"
   ]
  },
  {
   "cell_type": "code",
   "execution_count": 10,
   "metadata": {},
   "outputs": [
    {
     "data": {
      "text/html": [
       "<div>\n",
       "<style scoped>\n",
       "    .dataframe tbody tr th:only-of-type {\n",
       "        vertical-align: middle;\n",
       "    }\n",
       "\n",
       "    .dataframe tbody tr th {\n",
       "        vertical-align: top;\n",
       "    }\n",
       "\n",
       "    .dataframe thead th {\n",
       "        text-align: right;\n",
       "    }\n",
       "</style>\n",
       "<table border=\"1\" class=\"dataframe\">\n",
       "  <thead>\n",
       "    <tr style=\"text-align: right;\">\n",
       "      <th></th>\n",
       "      <th>macro-averaged</th>\n",
       "      <th>micro_averaged</th>\n",
       "    </tr>\n",
       "  </thead>\n",
       "  <tbody>\n",
       "    <tr>\n",
       "      <th>precision</th>\n",
       "      <td>0.728607</td>\n",
       "      <td>0.74</td>\n",
       "    </tr>\n",
       "    <tr>\n",
       "      <th>recall</th>\n",
       "      <td>0.733704</td>\n",
       "      <td>0.74</td>\n",
       "    </tr>\n",
       "    <tr>\n",
       "      <th>f1</th>\n",
       "      <td>0.730994</td>\n",
       "      <td>0.74</td>\n",
       "    </tr>\n",
       "  </tbody>\n",
       "</table>\n",
       "</div>"
      ],
      "text/plain": [
       "           macro-averaged  micro_averaged\n",
       "precision        0.728607            0.74\n",
       "recall           0.733704            0.74\n",
       "f1               0.730994            0.74"
      ]
     },
     "execution_count": 10,
     "metadata": {},
     "output_type": "execute_result"
    }
   ],
   "source": [
    "micro_prf = (np.diagonal(ova_sum) / np.sum(ova_sum, axis = 1))[0]\n",
    "cm_metrics_avg['micro_averaged'] = micro_prf\n",
    "cm_metrics_avg"
   ]
  },
  {
   "cell_type": "markdown",
   "metadata": {},
   "source": [
    "### Majority-Class Metrics"
   ]
  },
  {
   "cell_type": "code",
   "execution_count": 11,
   "metadata": {},
   "outputs": [
    {
     "name": "stdout",
     "output_type": "stream",
     "text": [
      "0.74 accuracy vs 0.47 majority-class accuracy\n"
     ]
    },
    {
     "data": {
      "text/html": [
       "<div>\n",
       "<style scoped>\n",
       "    .dataframe tbody tr th:only-of-type {\n",
       "        vertical-align: middle;\n",
       "    }\n",
       "\n",
       "    .dataframe tbody tr th {\n",
       "        vertical-align: top;\n",
       "    }\n",
       "\n",
       "    .dataframe thead th {\n",
       "        text-align: right;\n",
       "    }\n",
       "</style>\n",
       "<table border=\"1\" class=\"dataframe\">\n",
       "  <thead>\n",
       "    <tr style=\"text-align: right;\">\n",
       "      <th></th>\n",
       "      <th>recall</th>\n",
       "      <th>base_recall</th>\n",
       "      <th>recall_diff</th>\n",
       "      <th>precision</th>\n",
       "      <th>base_precision</th>\n",
       "      <th>precision_diff</th>\n",
       "      <th>f1</th>\n",
       "      <th>base_f1</th>\n",
       "      <th>f1_diff</th>\n",
       "    </tr>\n",
       "  </thead>\n",
       "  <tbody>\n",
       "    <tr>\n",
       "      <th>a</th>\n",
       "      <td>0.768421</td>\n",
       "      <td>1.0</td>\n",
       "      <td>-0.231579</td>\n",
       "      <td>0.776596</td>\n",
       "      <td>0.47</td>\n",
       "      <td>0.306596</td>\n",
       "      <td>0.772487</td>\n",
       "      <td>0.639456</td>\n",
       "      <td>0.133031</td>\n",
       "    </tr>\n",
       "    <tr>\n",
       "      <th>b</th>\n",
       "      <td>0.707692</td>\n",
       "      <td>0.0</td>\n",
       "      <td>0.707692</td>\n",
       "      <td>0.718750</td>\n",
       "      <td>0.00</td>\n",
       "      <td>0.718750</td>\n",
       "      <td>0.713178</td>\n",
       "      <td>0.000000</td>\n",
       "      <td>0.713178</td>\n",
       "    </tr>\n",
       "    <tr>\n",
       "      <th>c</th>\n",
       "      <td>0.725000</td>\n",
       "      <td>0.0</td>\n",
       "      <td>0.725000</td>\n",
       "      <td>0.690476</td>\n",
       "      <td>0.00</td>\n",
       "      <td>0.690476</td>\n",
       "      <td>0.707317</td>\n",
       "      <td>0.000000</td>\n",
       "      <td>0.707317</td>\n",
       "    </tr>\n",
       "  </tbody>\n",
       "</table>\n",
       "</div>"
      ],
      "text/plain": [
       "     recall  base_recall  recall_diff  precision  base_precision  \\\n",
       "a  0.768421          1.0    -0.231579   0.776596            0.47   \n",
       "b  0.707692          0.0     0.707692   0.718750            0.00   \n",
       "c  0.725000          0.0     0.725000   0.690476            0.00   \n",
       "\n",
       "   precision_diff        f1   base_f1   f1_diff  \n",
       "a        0.306596  0.772487  0.639456  0.133031  \n",
       "b        0.718750  0.713178  0.000000  0.713178  \n",
       "c        0.690476  0.707317  0.000000  0.707317  "
      ]
     },
     "execution_count": 11,
     "metadata": {},
     "output_type": "execute_result"
    }
   ],
   "source": [
    "mcIndex = np.where(rowsums == max(rowsums))\n",
    "mcAccuracy = p[mcIndex][0]\n",
    "\n",
    "mcRecall = 0 * p\n",
    "mcRecall[mcIndex] = 1\n",
    "\n",
    "mcPrecision = 0 * p\n",
    "mcPrecision[mcIndex] = p[mcIndex]\n",
    "\n",
    "mcF1 = 0 * p\n",
    "mcF1[mcIndex] = 2 * mcPrecision[mcIndex] / (mcPrecision[mcIndex] + 1)\n",
    "\n",
    "print('{} accuracy vs {} majority-class accuracy'.format(accuracy, mcAccuracy))\n",
    "pd.DataFrame(\n",
    "    {\n",
    "        'recall': recall,\n",
    "        'base_recall': mcRecall,\n",
    "        'recall_diff': recall - mcRecall,\n",
    "        'precision': precision,\n",
    "        'base_precision': mcPrecision, \n",
    "        'precision_diff': precision - mcPrecision,\n",
    "        'f1': f1,\n",
    "        'base_f1': mcF1,\n",
    "        'f1_diff': f1 - mcF1,\n",
    "        \n",
    "    }, index = data_classes)"
   ]
  },
  {
   "cell_type": "markdown",
   "metadata": {},
   "source": [
    "### Random-Guess Metrics"
   ]
  },
  {
   "cell_type": "code",
   "execution_count": 12,
   "metadata": {},
   "outputs": [
    {
     "data": {
      "text/html": [
       "<div>\n",
       "<style scoped>\n",
       "    .dataframe tbody tr th:only-of-type {\n",
       "        vertical-align: middle;\n",
       "    }\n",
       "\n",
       "    .dataframe tbody tr th {\n",
       "        vertical-align: top;\n",
       "    }\n",
       "\n",
       "    .dataframe thead th {\n",
       "        text-align: right;\n",
       "    }\n",
       "</style>\n",
       "<table border=\"1\" class=\"dataframe\">\n",
       "  <thead>\n",
       "    <tr style=\"text-align: right;\">\n",
       "      <th></th>\n",
       "      <th>predict a</th>\n",
       "      <th>predict b</th>\n",
       "      <th>predict c</th>\n",
       "    </tr>\n",
       "  </thead>\n",
       "  <tbody>\n",
       "    <tr>\n",
       "      <th>actual a</th>\n",
       "      <td>31.333333</td>\n",
       "      <td>31.333333</td>\n",
       "      <td>31.333333</td>\n",
       "    </tr>\n",
       "    <tr>\n",
       "      <th>actual b</th>\n",
       "      <td>21.333333</td>\n",
       "      <td>21.333333</td>\n",
       "      <td>21.333333</td>\n",
       "    </tr>\n",
       "    <tr>\n",
       "      <th>actual c</th>\n",
       "      <td>14.000000</td>\n",
       "      <td>14.000000</td>\n",
       "      <td>14.000000</td>\n",
       "    </tr>\n",
       "  </tbody>\n",
       "</table>\n",
       "</div>"
      ],
      "text/plain": [
       "          predict a  predict b  predict c\n",
       "actual a  31.333333  31.333333  31.333333\n",
       "actual b  21.333333  21.333333  21.333333\n",
       "actual c  14.000000  14.000000  14.000000"
      ]
     },
     "execution_count": 12,
     "metadata": {},
     "output_type": "execute_result"
    }
   ],
   "source": [
    "rg_cm = (n / nc) * np.repeat([p], nc, axis = 1).reshape(nc, nc)\n",
    "pd.DataFrame(rg_cm, index = cm_index, columns = cm_columns)"
   ]
  },
  {
   "cell_type": "code",
   "execution_count": 13,
   "metadata": {},
   "outputs": [
    {
     "name": "stdout",
     "output_type": "stream",
     "text": [
      "0.74 accuracy vs 0.3333333333333333 random-class accuracy\n"
     ]
    },
    {
     "data": {
      "text/html": [
       "<div>\n",
       "<style scoped>\n",
       "    .dataframe tbody tr th:only-of-type {\n",
       "        vertical-align: middle;\n",
       "    }\n",
       "\n",
       "    .dataframe tbody tr th {\n",
       "        vertical-align: top;\n",
       "    }\n",
       "\n",
       "    .dataframe thead th {\n",
       "        text-align: right;\n",
       "    }\n",
       "</style>\n",
       "<table border=\"1\" class=\"dataframe\">\n",
       "  <thead>\n",
       "    <tr style=\"text-align: right;\">\n",
       "      <th></th>\n",
       "      <th>recall</th>\n",
       "      <th>base_recall</th>\n",
       "      <th>recall_diff</th>\n",
       "      <th>precision</th>\n",
       "      <th>base_precision</th>\n",
       "      <th>precision_diff</th>\n",
       "      <th>f1</th>\n",
       "      <th>base_f1</th>\n",
       "      <th>f1_diff</th>\n",
       "    </tr>\n",
       "  </thead>\n",
       "  <tbody>\n",
       "    <tr>\n",
       "      <th>a</th>\n",
       "      <td>0.768421</td>\n",
       "      <td>0.333333</td>\n",
       "      <td>0.435088</td>\n",
       "      <td>0.776596</td>\n",
       "      <td>0.47</td>\n",
       "      <td>0.306596</td>\n",
       "      <td>0.772487</td>\n",
       "      <td>0.390041</td>\n",
       "      <td>0.382445</td>\n",
       "    </tr>\n",
       "    <tr>\n",
       "      <th>b</th>\n",
       "      <td>0.707692</td>\n",
       "      <td>0.333333</td>\n",
       "      <td>0.374359</td>\n",
       "      <td>0.718750</td>\n",
       "      <td>0.32</td>\n",
       "      <td>0.398750</td>\n",
       "      <td>0.713178</td>\n",
       "      <td>0.326531</td>\n",
       "      <td>0.386648</td>\n",
       "    </tr>\n",
       "    <tr>\n",
       "      <th>c</th>\n",
       "      <td>0.725000</td>\n",
       "      <td>0.333333</td>\n",
       "      <td>0.391667</td>\n",
       "      <td>0.690476</td>\n",
       "      <td>0.21</td>\n",
       "      <td>0.480476</td>\n",
       "      <td>0.707317</td>\n",
       "      <td>0.257669</td>\n",
       "      <td>0.449648</td>\n",
       "    </tr>\n",
       "  </tbody>\n",
       "</table>\n",
       "</div>"
      ],
      "text/plain": [
       "     recall  base_recall  recall_diff  precision  base_precision  \\\n",
       "a  0.768421     0.333333     0.435088   0.776596            0.47   \n",
       "b  0.707692     0.333333     0.374359   0.718750            0.32   \n",
       "c  0.725000     0.333333     0.391667   0.690476            0.21   \n",
       "\n",
       "   precision_diff        f1   base_f1   f1_diff  \n",
       "a        0.306596  0.772487  0.390041  0.382445  \n",
       "b        0.398750  0.713178  0.326531  0.386648  \n",
       "c        0.480476  0.707317  0.257669  0.449648  "
      ]
     },
     "execution_count": 13,
     "metadata": {},
     "output_type": "execute_result"
    }
   ],
   "source": [
    "rgAccuracy = 1 / nc\n",
    "rgPrecision = p\n",
    "rgRecall = 0 * p + 1 / nc\n",
    "rgF1 = 2 * p / (nc * p + 1)\n",
    "\n",
    "print('{} accuracy vs {} random-class accuracy'.format(accuracy, rgAccuracy))\n",
    "pd.DataFrame(\n",
    "    {\n",
    "        'recall': recall,\n",
    "        'base_recall': rgRecall,\n",
    "        'recall_diff': recall - rgRecall,\n",
    "        'precision': precision,\n",
    "        'base_precision': rgPrecision, \n",
    "        'precision_diff': precision - rgPrecision,\n",
    "        'f1': f1,\n",
    "        'base_f1': rgF1,\n",
    "        'f1_diff': f1 - rgF1,\n",
    "        \n",
    "    }, index = data_classes)"
   ]
  },
  {
   "cell_type": "markdown",
   "metadata": {},
   "source": [
    "### Weighted Random-Guess Metrics"
   ]
  },
  {
   "cell_type": "code",
   "execution_count": 14,
   "metadata": {},
   "outputs": [
    {
     "data": {
      "text/html": [
       "<div>\n",
       "<style scoped>\n",
       "    .dataframe tbody tr th:only-of-type {\n",
       "        vertical-align: middle;\n",
       "    }\n",
       "\n",
       "    .dataframe tbody tr th {\n",
       "        vertical-align: top;\n",
       "    }\n",
       "\n",
       "    .dataframe thead th {\n",
       "        text-align: right;\n",
       "    }\n",
       "</style>\n",
       "<table border=\"1\" class=\"dataframe\">\n",
       "  <thead>\n",
       "    <tr style=\"text-align: right;\">\n",
       "      <th></th>\n",
       "      <th>predict a</th>\n",
       "      <th>predict b</th>\n",
       "      <th>predict c</th>\n",
       "    </tr>\n",
       "  </thead>\n",
       "  <tbody>\n",
       "    <tr>\n",
       "      <th>actual a</th>\n",
       "      <td>44.18</td>\n",
       "      <td>30.08</td>\n",
       "      <td>19.74</td>\n",
       "    </tr>\n",
       "    <tr>\n",
       "      <th>actual b</th>\n",
       "      <td>30.08</td>\n",
       "      <td>20.48</td>\n",
       "      <td>13.44</td>\n",
       "    </tr>\n",
       "    <tr>\n",
       "      <th>actual c</th>\n",
       "      <td>19.74</td>\n",
       "      <td>13.44</td>\n",
       "      <td>8.82</td>\n",
       "    </tr>\n",
       "  </tbody>\n",
       "</table>\n",
       "</div>"
      ],
      "text/plain": [
       "          predict a  predict b  predict c\n",
       "actual a      44.18      30.08      19.74\n",
       "actual b      30.08      20.48      13.44\n",
       "actual c      19.74      13.44       8.82"
      ]
     },
     "execution_count": 14,
     "metadata": {},
     "output_type": "execute_result"
    }
   ],
   "source": [
    "wrg_cm = np.zeros([3, 3])\n",
    "\n",
    "for i in range(nc):\n",
    "    for j in range(nc):\n",
    "        wrg_cm[i, j] = n * p[i] * p[j]\n",
    "\n",
    "pd.DataFrame(wrg_cm, index = cm_index, columns = cm_columns)"
   ]
  },
  {
   "cell_type": "code",
   "execution_count": 15,
   "metadata": {},
   "outputs": [
    {
     "name": "stdout",
     "output_type": "stream",
     "text": [
      "0.74 accuracy vs 0.36739999999999995 weighted random-class accuracy\n"
     ]
    },
    {
     "data": {
      "text/html": [
       "<div>\n",
       "<style scoped>\n",
       "    .dataframe tbody tr th:only-of-type {\n",
       "        vertical-align: middle;\n",
       "    }\n",
       "\n",
       "    .dataframe tbody tr th {\n",
       "        vertical-align: top;\n",
       "    }\n",
       "\n",
       "    .dataframe thead th {\n",
       "        text-align: right;\n",
       "    }\n",
       "</style>\n",
       "<table border=\"1\" class=\"dataframe\">\n",
       "  <thead>\n",
       "    <tr style=\"text-align: right;\">\n",
       "      <th></th>\n",
       "      <th>recall</th>\n",
       "      <th>base_recall</th>\n",
       "      <th>recall_diff</th>\n",
       "      <th>precision</th>\n",
       "      <th>base_precision</th>\n",
       "      <th>precision_diff</th>\n",
       "      <th>f1</th>\n",
       "      <th>base_f1</th>\n",
       "      <th>f1_diff</th>\n",
       "    </tr>\n",
       "  </thead>\n",
       "  <tbody>\n",
       "    <tr>\n",
       "      <th>a</th>\n",
       "      <td>0.768421</td>\n",
       "      <td>0.47</td>\n",
       "      <td>0.298421</td>\n",
       "      <td>0.776596</td>\n",
       "      <td>0.47</td>\n",
       "      <td>0.306596</td>\n",
       "      <td>0.772487</td>\n",
       "      <td>0.47</td>\n",
       "      <td>0.302487</td>\n",
       "    </tr>\n",
       "    <tr>\n",
       "      <th>b</th>\n",
       "      <td>0.707692</td>\n",
       "      <td>0.32</td>\n",
       "      <td>0.387692</td>\n",
       "      <td>0.718750</td>\n",
       "      <td>0.32</td>\n",
       "      <td>0.398750</td>\n",
       "      <td>0.713178</td>\n",
       "      <td>0.32</td>\n",
       "      <td>0.393178</td>\n",
       "    </tr>\n",
       "    <tr>\n",
       "      <th>c</th>\n",
       "      <td>0.725000</td>\n",
       "      <td>0.21</td>\n",
       "      <td>0.515000</td>\n",
       "      <td>0.690476</td>\n",
       "      <td>0.21</td>\n",
       "      <td>0.480476</td>\n",
       "      <td>0.707317</td>\n",
       "      <td>0.21</td>\n",
       "      <td>0.497317</td>\n",
       "    </tr>\n",
       "  </tbody>\n",
       "</table>\n",
       "</div>"
      ],
      "text/plain": [
       "     recall  base_recall  recall_diff  precision  base_precision  \\\n",
       "a  0.768421         0.47     0.298421   0.776596            0.47   \n",
       "b  0.707692         0.32     0.387692   0.718750            0.32   \n",
       "c  0.725000         0.21     0.515000   0.690476            0.21   \n",
       "\n",
       "   precision_diff        f1  base_f1   f1_diff  \n",
       "a        0.306596  0.772487     0.47  0.302487  \n",
       "b        0.398750  0.713178     0.32  0.393178  \n",
       "c        0.480476  0.707317     0.21  0.497317  "
      ]
     },
     "execution_count": 15,
     "metadata": {},
     "output_type": "execute_result"
    }
   ],
   "source": [
    "wrgAccuracy = np.sum(np.power(p, 2))\n",
    "wrgPrecision = p\n",
    "wrgRecall = p\n",
    "wrgF1 = p\n",
    "\n",
    "print('{} accuracy vs {} weighted random-class accuracy'.format(accuracy, wrgAccuracy))\n",
    "pd.DataFrame(\n",
    "    {\n",
    "        'recall': recall,\n",
    "        'base_recall': wrgRecall,\n",
    "        'recall_diff': recall - wrgRecall,\n",
    "        'precision': precision,\n",
    "        'base_precision': wrgPrecision, \n",
    "        'precision_diff': precision - wrgPrecision,\n",
    "        'f1': f1,\n",
    "        'base_f1': wrgF1,\n",
    "        'f1_diff': f1 - wrgF1,\n",
    "        \n",
    "    }, index = data_classes)"
   ]
  },
  {
   "cell_type": "markdown",
   "metadata": {},
   "source": [
    "### Weighted Random-Guess Metrics (known prior)"
   ]
  },
  {
   "cell_type": "code",
   "execution_count": 16,
   "metadata": {},
   "outputs": [
    {
     "data": {
      "text/html": [
       "<div>\n",
       "<style scoped>\n",
       "    .dataframe tbody tr th:only-of-type {\n",
       "        vertical-align: middle;\n",
       "    }\n",
       "\n",
       "    .dataframe tbody tr th {\n",
       "        vertical-align: top;\n",
       "    }\n",
       "\n",
       "    .dataframe thead th {\n",
       "        text-align: right;\n",
       "    }\n",
       "</style>\n",
       "<table border=\"1\" class=\"dataframe\">\n",
       "  <thead>\n",
       "    <tr style=\"text-align: right;\">\n",
       "      <th></th>\n",
       "      <th>predict a</th>\n",
       "      <th>predict b</th>\n",
       "      <th>predict c</th>\n",
       "    </tr>\n",
       "  </thead>\n",
       "  <tbody>\n",
       "    <tr>\n",
       "      <th>actual a</th>\n",
       "      <td>50.0</td>\n",
       "      <td>25.0</td>\n",
       "      <td>25.0</td>\n",
       "    </tr>\n",
       "    <tr>\n",
       "      <th>actual b</th>\n",
       "      <td>25.0</td>\n",
       "      <td>12.5</td>\n",
       "      <td>12.5</td>\n",
       "    </tr>\n",
       "    <tr>\n",
       "      <th>actual c</th>\n",
       "      <td>25.0</td>\n",
       "      <td>12.5</td>\n",
       "      <td>12.5</td>\n",
       "    </tr>\n",
       "  </tbody>\n",
       "</table>\n",
       "</div>"
      ],
      "text/plain": [
       "          predict a  predict b  predict c\n",
       "actual a       50.0       25.0       25.0\n",
       "actual b       25.0       12.5       12.5\n",
       "actual c       25.0       12.5       12.5"
      ]
     },
     "execution_count": 16,
     "metadata": {},
     "output_type": "execute_result"
    }
   ],
   "source": [
    "pwrg_cm = np.zeros([3, 3])\n",
    "\n",
    "for i in range(nc):\n",
    "    for j in range(nc):\n",
    "        pwrg_cm[i, j] = n * p_true[i] * p_true[j]\n",
    "\n",
    "pd.DataFrame(pwrg_cm, index = cm_index, columns = cm_columns)"
   ]
  },
  {
   "cell_type": "code",
   "execution_count": 17,
   "metadata": {},
   "outputs": [
    {
     "name": "stdout",
     "output_type": "stream",
     "text": [
      "0.74 accuracy vs 0.375 prior-weighted random-class accuracy\n"
     ]
    },
    {
     "data": {
      "text/html": [
       "<div>\n",
       "<style scoped>\n",
       "    .dataframe tbody tr th:only-of-type {\n",
       "        vertical-align: middle;\n",
       "    }\n",
       "\n",
       "    .dataframe tbody tr th {\n",
       "        vertical-align: top;\n",
       "    }\n",
       "\n",
       "    .dataframe thead th {\n",
       "        text-align: right;\n",
       "    }\n",
       "</style>\n",
       "<table border=\"1\" class=\"dataframe\">\n",
       "  <thead>\n",
       "    <tr style=\"text-align: right;\">\n",
       "      <th></th>\n",
       "      <th>recall</th>\n",
       "      <th>base_recall</th>\n",
       "      <th>recall_diff</th>\n",
       "      <th>precision</th>\n",
       "      <th>base_precision</th>\n",
       "      <th>precision_diff</th>\n",
       "      <th>f1</th>\n",
       "      <th>base_f1</th>\n",
       "      <th>f1_diff</th>\n",
       "    </tr>\n",
       "  </thead>\n",
       "  <tbody>\n",
       "    <tr>\n",
       "      <th>a</th>\n",
       "      <td>0.768421</td>\n",
       "      <td>0.50</td>\n",
       "      <td>0.268421</td>\n",
       "      <td>0.776596</td>\n",
       "      <td>0.50</td>\n",
       "      <td>0.276596</td>\n",
       "      <td>0.772487</td>\n",
       "      <td>0.50</td>\n",
       "      <td>0.272487</td>\n",
       "    </tr>\n",
       "    <tr>\n",
       "      <th>b</th>\n",
       "      <td>0.707692</td>\n",
       "      <td>0.25</td>\n",
       "      <td>0.457692</td>\n",
       "      <td>0.718750</td>\n",
       "      <td>0.25</td>\n",
       "      <td>0.468750</td>\n",
       "      <td>0.713178</td>\n",
       "      <td>0.25</td>\n",
       "      <td>0.463178</td>\n",
       "    </tr>\n",
       "    <tr>\n",
       "      <th>c</th>\n",
       "      <td>0.725000</td>\n",
       "      <td>0.25</td>\n",
       "      <td>0.475000</td>\n",
       "      <td>0.690476</td>\n",
       "      <td>0.25</td>\n",
       "      <td>0.440476</td>\n",
       "      <td>0.707317</td>\n",
       "      <td>0.25</td>\n",
       "      <td>0.457317</td>\n",
       "    </tr>\n",
       "  </tbody>\n",
       "</table>\n",
       "</div>"
      ],
      "text/plain": [
       "     recall  base_recall  recall_diff  precision  base_precision  \\\n",
       "a  0.768421         0.50     0.268421   0.776596            0.50   \n",
       "b  0.707692         0.25     0.457692   0.718750            0.25   \n",
       "c  0.725000         0.25     0.475000   0.690476            0.25   \n",
       "\n",
       "   precision_diff        f1  base_f1   f1_diff  \n",
       "a        0.276596  0.772487     0.50  0.272487  \n",
       "b        0.468750  0.713178     0.25  0.463178  \n",
       "c        0.440476  0.707317     0.25  0.457317  "
      ]
     },
     "execution_count": 17,
     "metadata": {},
     "output_type": "execute_result"
    }
   ],
   "source": [
    "pwrgAccuracy = np.sum(np.power(p_true, 2))\n",
    "pwrgPrecision = p_true\n",
    "pwrgRecall = p_true\n",
    "pwrgF1 = p_true\n",
    "\n",
    "print('{} accuracy vs {} prior-weighted random-class accuracy'.format(accuracy, pwrgAccuracy))\n",
    "pd.DataFrame(\n",
    "    {\n",
    "        'recall': recall,\n",
    "        'base_recall': pwrgRecall,\n",
    "        'recall_diff': recall - pwrgRecall,\n",
    "        'precision': precision,\n",
    "        'base_precision': pwrgPrecision, \n",
    "        'precision_diff': precision - pwrgPrecision,\n",
    "        'f1': f1,\n",
    "        'base_f1': pwrgF1,\n",
    "        'f1_diff': f1 - pwrgF1,\n",
    "        \n",
    "    }, index = data_classes)"
   ]
  },
  {
   "cell_type": "markdown",
   "metadata": {},
   "source": [
    "### Kappa Statistic\n",
    "\n",
    "Further reading: https://stats.stackexchange.com/questions/82162/cohens-kappa-in-plain-english"
   ]
  },
  {
   "cell_type": "code",
   "execution_count": 18,
   "metadata": {},
   "outputs": [
    {
     "data": {
      "text/plain": [
       "0.5877923107411811"
      ]
     },
     "execution_count": 18,
     "metadata": {},
     "output_type": "execute_result"
    }
   ],
   "source": [
    "expAccuracy = np.sum(p * q)\n",
    "kappa = (accuracy - expAccuracy) / (1 - expAccuracy)\n",
    "kappa"
   ]
  }
 ],
 "metadata": {
  "kernelspec": {
   "display_name": "Python [conda env:py37]",
   "language": "python",
   "name": "conda-env-py37-py"
  },
  "language_info": {
   "codemirror_mode": {
    "name": "ipython",
    "version": 3
   },
   "file_extension": ".py",
   "mimetype": "text/x-python",
   "name": "python",
   "nbconvert_exporter": "python",
   "pygments_lexer": "ipython3",
   "version": "3.7.2"
  }
 },
 "nbformat": 4,
 "nbformat_minor": 2
}
